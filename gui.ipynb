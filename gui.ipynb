{
 "cells": [
  {
   "cell_type": "code",
   "execution_count": 1,
   "id": "ffe1e369",
   "metadata": {},
   "outputs": [],
   "source": [
    "import warnings\n",
    "warnings.filterwarnings('ignore')\n",
    "\n",
    "import ipywidgets as widgets\n",
    "from IPython.display import display, clear_output\n",
    "\n",
    "import time\n",
    "import pickle\n",
    "\n",
    "from tensorflow import keras\n",
    "from sklearn.feature_extraction.text import TfidfTransformer\n",
    "from sklearn.feature_extraction.text import CountVectorizer\n",
    "from tabulate import tabulate\n",
    "\n",
    "import pandas as pd\n"
   ]
  },
  {
   "cell_type": "code",
   "execution_count": 2,
   "id": "78926e2c",
   "metadata": {},
   "outputs": [],
   "source": [
    "#!jupyter nbextension enable --py widgetsnbextension --sys-prefix\n",
    "#!jupyter serverextension enable voila --sys-prefix"
   ]
  },
  {
   "cell_type": "code",
   "execution_count": 3,
   "id": "a6e2ef95",
   "metadata": {},
   "outputs": [],
   "source": [
    "# Image Widget\n",
    "\n",
    "file = open(\"dep_gif.gif\", \"rb\")\n",
    "image = file.read()\n",
    "image_headline = widgets.Image(\n",
    "                    value=image,\n",
    "                    format='gif',\n",
    "                    width='1450',\n",
    "                    \n",
    "                )\n",
    "\n",
    "label_headline = widgets.Label(\n",
    "                    value='GIF on Giphy.com',\n",
    "                    \n",
    "                )\n",
    "\n",
    "vbox_headline = widgets.VBox([image_headline, label_headline])\n",
    "#vbox_headline"
   ]
  },
  {
   "cell_type": "code",
   "execution_count": 4,
   "id": "079f8d02",
   "metadata": {},
   "outputs": [],
   "source": [
    "textbox = widgets.Textarea(\n",
    "    value='Hai!',\n",
    "    placeholder='Sila luahkan segala isi hati di sini :) ',\n",
    "    layout=widgets.Layout(width='92%', height='150px')\n",
    ")\n",
    "\n",
    "#type(textbox.value)\n",
    "\n",
    "#textbox.value"
   ]
  },
  {
   "cell_type": "code",
   "execution_count": 5,
   "id": "92c20252",
   "metadata": {},
   "outputs": [],
   "source": [
    "#button = widgets.Button(\n",
    "#    description='Adakah saya mengalami kemurungan?',\n",
    "#    layout={'width': 'max-content'},\n",
    "#    button_style='info', # 'success', 'info', 'warning', 'danger' or ''\n",
    "#    tooltip='Click me',\n",
    "#    icon='heartbeat', # (FontAwesome names without the `fa-` prefix)\n",
    "#    style={'description_width': 'initial'}\n",
    "#)\n",
    "#output = widgets.Output()\n",
    "\n",
    "#def classify(event):\n",
    "#    with output:\n",
    "#        clear_output()\n",
    "#        print(\"Tunggu sebentar.....\")\n",
    "#        time.sleep(3)\n",
    "#        clear_output()\n",
    "#        print(\"Keputusan sudah ada...\")\n",
    "        \n",
    "#button.on_click(classify)\n",
    "\n",
    "#button"
   ]
  },
  {
   "cell_type": "code",
   "execution_count": 6,
   "id": "345a38a9",
   "metadata": {},
   "outputs": [],
   "source": [
    "# Heading\n",
    "\n",
    "deco_0 = widgets.HTML(value = \"<h1>===============================================================================</h1>\")\n",
    "text_0 = widgets.HTML(value = \"<h1>&emsp;&emsp;&emsp;&emsp;&emsp;&emsp;&emsp;&emsp;&emsp;&emsp;&emsp;&emsp;&emsp;&emsp;&emsp;&emsp;&emsp;Klasifikasi Teks Melalui Pelbagai Model Klasifikasi</b></h1>\")\n",
    "deco_1 = widgets.HTML(value = \"<h1>===============================================================================</h1>\")\n",
    "\n",
    "\n",
    "vbox_heading = widgets.VBox([deco_0, text_0, deco_1])"
   ]
  },
  {
   "cell_type": "code",
   "execution_count": 7,
   "id": "650f6b4a",
   "metadata": {},
   "outputs": [],
   "source": [
    "# Input from User\n",
    "text_1 = widgets.HTML(value = \"<h2>Ceritakan perasaan anda kebelakangan ini di sini:</h2>\")\n",
    "vbox_text = widgets.VBox([text_1, textbox])\n",
    "#vbox_input"
   ]
  },
  {
   "cell_type": "code",
   "execution_count": 8,
   "id": "cf7c37bb",
   "metadata": {},
   "outputs": [],
   "source": [
    "selector = widgets.ToggleButtons(options=['Extra Tree', 'AdaBoost', 'Random Forest', 'Naive Bayes', \n",
    "             'Logistic Regression'], value = None)\n",
    "#selector"
   ]
  },
  {
   "cell_type": "code",
   "execution_count": 9,
   "id": "d14d1ada",
   "metadata": {},
   "outputs": [],
   "source": [
    "#Classifier button\n",
    "button_1 = widgets.Button(\n",
    "    description='Extra Tree',\n",
    "    layout={'width': 'max-content'},\n",
    "    button_style='success', # 'success', 'info', 'warning', 'danger' or ''\n",
    "    tooltip='Click me',\n",
    "    icon='leaf', # (FontAwesome names without the `fa-` prefix)\n",
    "    style={'description_width': 'initial'}\n",
    ")\n",
    "button_2 = widgets.Button(\n",
    "    description='AdaBoost',\n",
    "    layout={'width': 'max-content'},\n",
    "    button_style='warning', # 'success', 'info', 'warning', 'danger' or ''\n",
    "    tooltip='Click me',\n",
    "    icon='flash', # (FontAwesome names without the `fa-` prefix)\n",
    "    style={'description_width': 'initial'}\n",
    ")\n",
    "button_3 = widgets.Button(\n",
    "    description='Random Forest',\n",
    "    layout={'width': 'max-content'},\n",
    "    button_style='', # 'success', 'info', 'warning', 'danger' or ''\n",
    "    tooltip='Click me',\n",
    "    icon='tree', # (FontAwesome names without the `fa-` prefix)\n",
    "    style={'description_width': 'initial'}\n",
    ")\n",
    "button_4 = widgets.Button(\n",
    "    description='Naive Bayes',\n",
    "    layout={'width': 'max-content'},\n",
    "    button_style='info', # 'success', 'info', 'warning', 'danger' or ''\n",
    "    tooltip='Click me',\n",
    "    icon='child', # (FontAwesome names without the `fa-` prefix)\n",
    "    style={'description_width': 'initial'}\n",
    ")\n",
    "button_5 = widgets.Button(\n",
    "    description='Logistic Regression',\n",
    "    layout={'width': 'max-content'},\n",
    "    button_style='danger', # 'success', 'info', 'warning', 'danger' or ''\n",
    "    tooltip='Click me',\n",
    "    icon='line-chart', # (FontAwesome names without the `fa-` prefix)\n",
    "    style={'description_width': 'initial'}\n",
    ")\n",
    "\n",
    "#button_6 = widgets.Button(\n",
    "#    description='Keras',\n",
    "#    layout={'width': 'max-content'},\n",
    "#    style= {'button_color':'violet'}, # 'success', 'info', 'warning', 'danger' or ''\n",
    "#    tooltip='Click me',\n",
    "#    icon='adjust', # (FontAwesome names without the `fa-` prefix)\n",
    "#)\n",
    "\n",
    "hbox_select = widgets.HBox([button_1,button_2,button_3,button_4,button_5])\n",
    "\n"
   ]
  },
  {
   "cell_type": "code",
   "execution_count": 10,
   "id": "f523b6f4",
   "metadata": {},
   "outputs": [],
   "source": [
    "#events\n",
    "\n",
    "output_result = widgets.Output()\n",
    "table = widgets.Output\n",
    "\n",
    "def load_model(file_name):\n",
    "        model = pickle.load(open(file_name, 'rb'))\n",
    "        tfidf = pickle.load(open('tfidf.pkl', 'rb'))\n",
    "        vectorizer = pickle.load(open('cv.pkl', 'rb'))\n",
    "        inputTo = [textbox.value] \n",
    "        counts = vectorizer.transform(inputTo)\n",
    "        counts = tfidf.transform(counts)\n",
    "        proba = model.predict_proba(counts)\n",
    "        classify = model.predict(counts)\n",
    "        output_table(proba, group)\n",
    "\n",
    "group = \"Nothing\" \n",
    "\n",
    "def output_table(proba, classify):\n",
    "    if (classify == 1):\n",
    "        group = \"Ya. Anda berkemungkinan mengalami kemurungan\"\n",
    "    else:\n",
    "        group = \"Tidak. Anda tidak mengalami kemurungan\"\n",
    "    no_depress =   proba[0][0]*100\n",
    "    depress = proba[0][1]*100\n",
    "    table = [[\"Adakah saya mengalami kemurungan?       |\", 'Keberangkalian'],\n",
    "             [\"*********************************       |\",' **************'], \n",
    "             [f\"{group}  |\", \"Tidak Murung - {:.2f}%  \".format(no_depress)],\n",
    "             [\"\\t-                                       |\", \"Murung - {:.2f}%\".format(depress)]]\n",
    "    print(tabulate(table))\n",
    "    \n",
    "\n",
    "def extrclass(event):\n",
    "    with output_result:\n",
    "        clear_output()\n",
    "        print(\"Pengelasan Extra Tree:\")\n",
    "        load_model('et.pkl')\n",
    "\n",
    "        \n",
    "def adaB(event):\n",
    "    with output_result:\n",
    "        clear_output()\n",
    "        print(\"Pengelasan AdaBoost:\")\n",
    "        load_model('ab.pkl')\n",
    "\n",
    "        \n",
    "def RF(event):\n",
    "    with output_result:\n",
    "        clear_output()\n",
    "        print(\"Pengelasan Random Forest:\")\n",
    "        load_model('rf.pkl') \n",
    "\n",
    "        \n",
    "def NB(event):\n",
    "    with output_result:\n",
    "        clear_output()\n",
    "        print(\"Pengelasan Naive Bayes:\")\n",
    "        load_model('nb.pkl')\n",
    "\n",
    "        \n",
    "def LR(event):\n",
    "    with output_result:\n",
    "        clear_output()        \n",
    "        print(\"Pengelasan Logistic Regression: \")\n",
    "        load_model('lr.pkl')\n",
    "\n",
    "        \n",
    "#def keras(event):\n",
    "#    with output_result:\n",
    "#        clear_output()\n",
    "#        my_model = keras.models.load_model('my_model')\n",
    "#        my_model.load_weights(\"weights.h5\")\n",
    "#        tokenizer = pickle.load(open('token.pkl', 'rb'))\n",
    "#        sentences = [textbox.value]\n",
    "#        sequences = tokenizer.texts_to_sequences(sentences)\n",
    "#        padded = pad_sequences(sequences, maxlen=max_length, padding=padding_type, truncating=trunc_type)\n",
    "#        print(my_model.predict(padded))\n",
    "        \n",
    "button_1.on_click(extrclass)\n",
    "button_2.on_click(adaB)\n",
    "button_3.on_click(RF)\n",
    "button_4.on_click(NB)\n",
    "button_5.on_click(LR)\n",
    "#button_6.on_click(keras)\n",
    "\n"
   ]
  },
  {
   "cell_type": "code",
   "execution_count": 11,
   "id": "26758fea",
   "metadata": {},
   "outputs": [],
   "source": [
    "text_3 = widgets.HTML(value = \"<h2>Sila pilih model klasifikasi yang dikehendaki:</br>\")\n",
    "vbox_choose = widgets.VBox([text_3, hbox_select])\n",
    "#vbox_choose"
   ]
  },
  {
   "cell_type": "code",
   "execution_count": 25,
   "id": "f2a9aef1",
   "metadata": {},
   "outputs": [
    {
     "data": {
      "application/vnd.jupyter.widget-view+json": {
       "model_id": "3a3e535dae544f8e9e3373e4075dcf05",
       "version_major": 2,
       "version_minor": 0
      },
      "text/plain": [
       "VBox(children=(VBox(children=(HTML(value='<h2>Sila pilih model klasifikasi yang dikehendaki:</br>'), HBox(chil…"
      ]
     },
     "metadata": {},
     "output_type": "display_data"
    }
   ],
   "source": [
    "text_4 = widgets.HTML(value = \"<h3><b>&nbsp;Keputusan</b></h3>\" )\n",
    "text_5 = widgets.HTML(value = \"<h3>*~*~*~*~*~*~*~*~*~*~*~*~*~*~*~*~*~*~*~*~*~*~*~*~*~*~*</h3>\")\n",
    "\n",
    "\n",
    "\n",
    "\n",
    "result = widgets.VBox([text_5,text_4, output_result, text_5 ])\n",
    "hbox_result = widgets.VBox([vbox_choose, result])\n",
    "#hbox_result"
   ]
  },
  {
   "cell_type": "code",
   "execution_count": 14,
   "id": "4350743e",
   "metadata": {},
   "outputs": [
    {
     "data": {
      "application/vnd.jupyter.widget-view+json": {
       "model_id": "1e7eac9dedaf45f1afb2b31789699a69",
       "version_major": 2,
       "version_minor": 0
      },
      "text/plain": [
       "VBox(children=(VBox(children=(Image(value=b'GIF89a\\xf4\\x01\\x19\\x01\\xf5/\\x00###\\x15\\x15\\x15YYY\\x93\\x93\\x93TTT\\x…"
      ]
     },
     "metadata": {},
     "output_type": "display_data"
    }
   ],
   "source": [
    "page = widgets.VBox([vbox_headline,vbox_heading, vbox_text,hbox_result])\n",
    "display(page)"
   ]
  },
  {
   "cell_type": "code",
   "execution_count": 26,
   "id": "7ed894a9",
   "metadata": {},
   "outputs": [],
   "source": [
    "! pip freeze > requirement.txt"
   ]
  },
  {
   "cell_type": "code",
   "execution_count": null,
   "id": "d2370731",
   "metadata": {},
   "outputs": [],
   "source": []
  },
  {
   "cell_type": "code",
   "execution_count": null,
   "id": "01c1f626",
   "metadata": {},
   "outputs": [],
   "source": []
  }
 ],
 "metadata": {
  "kernelspec": {
   "display_name": "Python 3",
   "language": "python",
   "name": "python3"
  },
  "language_info": {
   "codemirror_mode": {
    "name": "ipython",
    "version": 3
   },
   "file_extension": ".py",
   "mimetype": "text/x-python",
   "name": "python",
   "nbconvert_exporter": "python",
   "pygments_lexer": "ipython3",
   "version": "3.8.10"
  }
 },
 "nbformat": 4,
 "nbformat_minor": 5
}
